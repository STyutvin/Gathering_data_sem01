{
 "cells": [
  {
   "cell_type": "markdown",
   "metadata": {},
   "source": [
    "### Семинар 01 (сбор и разметка данных)"
   ]
  },
  {
   "cell_type": "markdown",
   "metadata": {},
   "source": [
    "Для запроса GET с Foursquare возьмем категорию \"Цирки\". Согласно документации сайта ID цирков равен 10009. Искать данные заведения будем в Москве."
   ]
  },
  {
   "cell_type": "code",
   "execution_count": 79,
   "metadata": {},
   "outputs": [],
   "source": [
    "# Импортируем библиотеки\n",
    "\n",
    "import requests\n",
    "import json"
   ]
  },
  {
   "cell_type": "code",
   "execution_count": 80,
   "metadata": {},
   "outputs": [],
   "source": [
    "# Учетные данные API\n",
    "client_id = \"__\"\n",
    "client_secret = \"__\""
   ]
  },
  {
   "cell_type": "markdown",
   "metadata": {},
   "source": [
    "Для поиска рейтинга согласно документации Foursquare должен использоваться следующий адрес: <br>\n",
    "*https://api.foursquare.com/v3/places/search?sort=RATING* <br>\n",
    "Однако, не все заведения имеют рейтинг (во всяком случае у цирков я его не нашел). Поэтому будем использовать запрос просто для поиска мест."
   ]
  },
  {
   "cell_type": "code",
   "execution_count": 81,
   "metadata": {},
   "outputs": [],
   "source": [
    "# Конечная точка API\n",
    "endpoint = \"https://api.foursquare.com/v3/places/search\""
   ]
  },
  {
   "cell_type": "code",
   "execution_count": 82,
   "metadata": {},
   "outputs": [],
   "source": [
    "# Определение параметров для запроса API\n",
    "city = \"Moscow\"\n",
    "category = 10009        # 10009 это ID цирка\n",
    "\n",
    "params = {\n",
    "    \"client_id\": client_id,\n",
    "    \"client_secret\": client_secret,\n",
    "    \"near\": city,\n",
    "    \"categories\": category,\n",
    "    \"limit\": 4          # ограничимся 4-мя заведениями, т.к. большее количество все равно не уместится в консоль\n",
    "}\n",
    "\n",
    "headers = {\n",
    "    \"Accept\": \"application/json\",\n",
    "    \"Authorization\": \"fsq3kdaE4ZzBM268BSpj/pgUXJe4wRPScpiDSwnZfWGM3vM=\"\n",
    "}"
   ]
  },
  {
   "cell_type": "markdown",
   "metadata": {},
   "source": [
    "Поскольку рейтинг вывести не удалось, я решил вместо этого вывести в консоль почтовый индекс и категорию заведения."
   ]
  },
  {
   "cell_type": "code",
   "execution_count": 83,
   "metadata": {},
   "outputs": [
    {
     "name": "stdout",
     "output_type": "stream",
     "text": [
      "Успешный запрос API!\n",
      "Название: Nikulin Moscow Circus on Tsvetnoi Boulevard (Московский цирк Никулина)\n",
      "Адрес: Цветной б Ул., д. 13\n",
      "Почтовый индекс: 127051\n",
      "Категоргия: Circus\n",
      "\n",
      "\n",
      "Название: The Moscow State Circus (Большой Московский Государственный цирк)\n",
      "Адрес: Вернадского Пр., 7\n",
      "Почтовый индекс: 119296\n",
      "Категоргия: Circus\n",
      "\n",
      "\n",
      "Название: Цирк братьев Запашных\n",
      "Адрес: Ул. 2-Я ФИЛЕВСКАЯ, д.7/19\n",
      "Почтовый индекс: 121096\n",
      "Категоргия: Circus\n",
      "\n",
      "\n",
      "Название: Росгосцирк\n",
      "Адрес: Пушечная Ул., д. 4\n",
      "Почтовый индекс: 109012\n",
      "Категоргия: Circus\n",
      "\n",
      "\n"
     ]
    }
   ],
   "source": [
    "# Отправка запроса API и получение ответа\n",
    "response = requests.get(endpoint, params=params,headers=headers)\n",
    "\n",
    "# Проверка успешности запроса API\n",
    "if response.status_code == 200:\n",
    "    print(\"Успешный запрос API!\")\n",
    "    data = json.loads(response.text)\n",
    "    venues = data[\"results\"]\n",
    "    for venue in venues:\n",
    "        print(\"Название:\", venue[\"name\"])\n",
    "        print(\"Адрес:\", venue[\"location\"][\"address\"])\n",
    "        print(\"Почтовый индекс:\", venue[\"location\"][\"postcode\"])\n",
    "        print(\"Категоргия:\", venue[\"categories\"][0][\"name\"])\n",
    "        print(\"\\n\")\n",
    "else:\n",
    "    print(\"Запрос API завершился неудачей с кодом состояния:\", response.status_code)\n",
    "    print(response.text)"
   ]
  }
 ],
 "metadata": {
  "kernelspec": {
   "display_name": "base",
   "language": "python",
   "name": "python3"
  },
  "language_info": {
   "codemirror_mode": {
    "name": "ipython",
    "version": 3
   },
   "file_extension": ".py",
   "mimetype": "text/x-python",
   "name": "python",
   "nbconvert_exporter": "python",
   "pygments_lexer": "ipython3",
   "version": "3.11.5"
  }
 },
 "nbformat": 4,
 "nbformat_minor": 2
}
